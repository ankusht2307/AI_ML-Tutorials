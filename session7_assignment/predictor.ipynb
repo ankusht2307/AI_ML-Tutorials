{
 "cells": [
  {
   "cell_type": "code",
   "execution_count": 34,
   "metadata": {},
   "outputs": [],
   "source": [
    "import numpy as np\n",
    "from tensorflow.keras.preprocessing import image\n",
    "from tensorflow.keras.models import load_model"
   ]
  },
  {
   "cell_type": "code",
   "execution_count": 35,
   "metadata": {},
   "outputs": [
    {
     "name": "stdout",
     "output_type": "stream",
     "text": [
      "1/1 [==============================] - 0s 67ms/step\n",
      "It's a bike\n"
     ]
    }
   ],
   "source": [
    "def load_and_preprocess_image(img_path, target_size=(244, 244)):\n",
    "    # Load the image\n",
    "    img = image.load_img(img_path, target_size=target_size)\n",
    "    \n",
    "    # Convert the image to a NumPy array\n",
    "    img_array = image.img_to_array(img)\n",
    "    \n",
    "    # Rescale the pixel values\n",
    "    img_array = img_array / 255.0\n",
    "    \n",
    "    # Expand dimensions to match the input shape of the model\n",
    "    img_array = np.expand_dims(img_array, axis=0)\n",
    "    \n",
    "    return img_array\n",
    "\n",
    "def predict_image_class(model_path, img_path):\n",
    "    # Load the saved model\n",
    "    model = load_model(model_path)\n",
    "    \n",
    "    # Preprocess the image\n",
    "    img_array = load_and_preprocess_image(img_path)\n",
    "    \n",
    "    # Make a prediction\n",
    "    prediction = model.predict(img_array)\n",
    "    \n",
    "    # Convert the prediction to a class label\n",
    "    class_prediction = (prediction > 0.5).astype(\"int32\")[0][0]\n",
    "    \n",
    "    # Map the class label to the corresponding class name\n",
    "    class_labels = {0: 'car', 1: 'bike'}\n",
    "    predicted_class = class_labels[class_prediction]\n",
    "    \n",
    "    return predicted_class\n",
    "\n",
    "model_path = 'bike_car_model.h5'\n",
    "img_path = 'bike2.jpg'\n",
    "\n",
    "predicted_class = predict_image_class(model_path, img_path)\n",
    "\n",
    "# Print the prediction\n",
    "print(\"It's a\", predicted_class)"
   ]
  }
 ],
 "metadata": {
  "kernelspec": {
   "display_name": "base",
   "language": "python",
   "name": "python3"
  },
  "language_info": {
   "codemirror_mode": {
    "name": "ipython",
    "version": 3
   },
   "file_extension": ".py",
   "mimetype": "text/x-python",
   "name": "python",
   "nbconvert_exporter": "python",
   "pygments_lexer": "ipython3",
   "version": "3.10.13"
  }
 },
 "nbformat": 4,
 "nbformat_minor": 2
}
