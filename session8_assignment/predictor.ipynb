{
 "cells": [
  {
   "cell_type": "code",
   "execution_count": 7,
   "metadata": {},
   "outputs": [],
   "source": [
    "import numpy as np\n",
    "import pickle\n",
    "from tensorflow.keras.models import load_model\n",
    "from tensorflow.keras.preprocessing.sequence import pad_sequences\n",
    "from tensorflow.keras.preprocessing.text import Tokenizer"
   ]
  },
  {
   "cell_type": "code",
   "execution_count": 8,
   "metadata": {},
   "outputs": [],
   "source": [
    "# Load the tokenizer\n",
    "with open('tokenizer.pkl', 'rb') as f:\n",
    "    tokenizer = pickle.load(f)"
   ]
  },
  {
   "cell_type": "markdown",
   "metadata": {},
   "source": [
    "##### Predictor"
   ]
  },
  {
   "cell_type": "code",
   "execution_count": 9,
   "metadata": {},
   "outputs": [
    {
     "name": "stdout",
     "output_type": "stream",
     "text": [
      "1/1 [==============================] - 0s 44ms/step\n",
      "[[9.9943238e-01]\n",
      " [1.4630156e-05]\n",
      " [9.9980891e-01]\n",
      " [1.6494732e-05]\n",
      " [9.9686241e-01]\n",
      " [3.9405179e-05]\n",
      " [9.9946237e-01]\n",
      " [4.5714314e-05]\n",
      " [2.8268329e-03]\n",
      " [1.5837867e-04]]\n",
      "['spam', 'ham', 'spam', 'ham', 'spam', 'ham', 'spam', 'ham', 'ham', 'ham']\n"
     ]
    }
   ],
   "source": [
    "# Define test messages\n",
    "test_messages = [\n",
    "    \"Free entry in 2 a wkly comp to win FA Cup final tkts 21st May 2005.\",\n",
    "    \"Nah I don't think he goes to usf, he lives around here though.\",\n",
    "    \"Congratulations! You've won a $1000 Walmart gift card. Go to http://bit.ly/12345 to claim now.\",\n",
    "    \"Hey, are we still meeting for lunch tomorrow?\",\n",
    "    \"URGENT! Your account has been suspended. Click here to reactivate.\",\n",
    "    \"Don't forget to bring the report to the meeting this afternoon.\",\n",
    "    \"You have been selected to receive a brand new iPhone for free! Just click the link.\",\n",
    "    \"Can you send me the files by end of day?\",\n",
    "    \"Limited time offer! Get 50% off on all products. Visit our store now!\",\n",
    "    \"Let's catch up this weekend. It's been a while!\"\n",
    "]\n",
    "\n",
    "# Preprocess test messages\n",
    "test_sequences = tokenizer.texts_to_sequences(test_messages)\n",
    "test_padded = pad_sequences(test_sequences, maxlen=loaded_model.input_shape[1])\n",
    "\n",
    "# Predict with the loaded model\n",
    "predictions = loaded_model.predict(test_padded)\n",
    "\n",
    "# Print predictions\n",
    "print(predictions)\n",
    "\n",
    "# Convert predictions to labels\n",
    "predicted_labels = ['spam' if p > 0.5 else 'ham' for p in predictions]\n",
    "print(predicted_labels)"
   ]
  }
 ],
 "metadata": {
  "kernelspec": {
   "display_name": "Python 3",
   "language": "python",
   "name": "python3"
  },
  "language_info": {
   "codemirror_mode": {
    "name": "ipython",
    "version": 3
   },
   "file_extension": ".py",
   "mimetype": "text/x-python",
   "name": "python",
   "nbconvert_exporter": "python",
   "pygments_lexer": "ipython3",
   "version": "3.10.13"
  }
 },
 "nbformat": 4,
 "nbformat_minor": 2
}
